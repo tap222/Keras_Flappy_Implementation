{
 "cells": [
  {
   "cell_type": "code",
   "execution_count": 1,
   "metadata": {},
   "outputs": [
    {
     "name": "stderr",
     "output_type": "stream",
     "text": [
      "/home/tapas/anaconda3/lib/python3.6/site-packages/h5py/__init__.py:34: FutureWarning: Conversion of the second argument of issubdtype from `float` to `np.floating` is deprecated. In future, it will be treated as `np.float64 == np.dtype(float).type`.\n",
      "  from ._conv import register_converters as _register_converters\n",
      "Using TensorFlow backend.\n"
     ]
    }
   ],
   "source": [
    "#Saving each model \n",
    "from itertools import cycle\n",
    "#For starting weights random number implementation\n",
    "import random\n",
    "#Link images and sounds  \n",
    "import sys\n",
    "\n",
    "#implemenations of flappy bird game \n",
    "import pygame\n",
    "from pygame.locals import *\n",
    "\n",
    "import numpy as np\n",
    "\n",
    "#Implementations of deep learning network keras\n",
    "from keras.models import Sequential\n",
    "from keras.layers import Dense, Activation\n",
    "from keras.optimizers import SGD"
   ]
  },
  {
   "cell_type": "code",
   "execution_count": 2,
   "metadata": {
    "collapsed": true
   },
   "outputs": [],
   "source": [
    "FPS = 30 #Speed of game\n",
    "SCREENWIDTH  = 288.0 #width of screen\n",
    "SCREENHEIGHT = 512.0 #Height of screen\n",
    "# amount by which base can maximum shift to left\n",
    "PIPEGAPSIZE  = 100 # gap between upper and lower part of pipe\n",
    "BASEY        = SCREENHEIGHT * 0.79\n",
    "# image, sound and hitmask  dicts\n",
    "IMAGES, SOUNDS, HITMASKS = {}, {}, {}\n",
    "#Lists are ordered sets of objects, whereas dictionaries are unordered sets."
   ]
  },
  {
   "cell_type": "code",
   "execution_count": null,
   "metadata": {
    "collapsed": true
   },
   "outputs": [],
   "source": [
    "#fitness as the rating of a certain species and with evolution we transform existing species in a manner\n",
    "#that would result in species with higher fitness values. This fitness value could be defined in any manner,\n",
    "#in real life this could be the survival capacity which is why we have developed the features we have as humans"
   ]
  },
  {
   "cell_type": "code",
   "execution_count": 3,
   "metadata": {
    "collapsed": true
   },
   "outputs": [],
   "source": [
    "#Loading of model among the pool at one time \n",
    "load_saved_pool = 1\n",
    "#Save the best model among the different models which has high fitness\n",
    "save_current_pool = 1\n",
    "#Intiate current model \n",
    "current_pool = []\n",
    "#fitness of each model \n",
    "fitness = []\n",
    "#models to select at time\n",
    "total_models = 50"
   ]
  },
  {
   "cell_type": "code",
   "execution_count": 4,
   "metadata": {
    "collapsed": true
   },
   "outputs": [],
   "source": [
    "#Distance at which next pipe\n",
    "next_pipe_x = -1\n",
    "#Vertical distance of hole or pipe height\n",
    "next_pipe_hole_y = -1\n",
    "#intialize the pipe genrated at distance\n",
    "generation = 1"
   ]
  },
  {
   "cell_type": "code",
   "execution_count": 5,
   "metadata": {
    "collapsed": true
   },
   "outputs": [],
   "source": [
    "#Among the 50 totalmodels save the wights with file name Current_MOdel_Pool/model_new_num.keras\n",
    "def save_pool():\n",
    "    for xi in range(total_models):\n",
    "        current_pool[xi].save_weights(\"Current_Model_Pool/model_new\" + str(xi) + \".keras\")\n",
    "    print(\"Saved current pool!\")"
   ]
  },
  {
   "cell_type": "code",
   "execution_count": null,
   "metadata": {
    "collapsed": true
   },
   "outputs": [],
   "source": [
    "#We create a pool of size ‘total_models’ which are all initialized randomly. Since we need a large pool to start with,\n",
    "#it is recommended that we use at-least around a hundred networks to initialize our pool."
   ]
  },
  {
   "cell_type": "code",
   "execution_count": null,
   "metadata": {
    "collapsed": true
   },
   "outputs": [],
   "source": [
    "#Here, we select the set of weights in our network that connect the 3 nodes in the first layer to the 7 nodes in \n",
    "#the second layer and then swap these weights for the given two networks from the pool."
   ]
  },
  {
   "cell_type": "code",
   "execution_count": 6,
   "metadata": {
    "collapsed": true
   },
   "outputs": [],
   "source": [
    "#keras documentation https://keras.io/layers/about-keras-layers/\n",
    "#Two models it started with 10 birds but last two fitness score we are considering for further consideration\n",
    "def model_crossover(model_idx1, model_idx2):\n",
    "    global current_pool #make the variable global\n",
    "    weights1 = current_pool[model_idx1].get_weights() #getting weights of current neuron model_idx1,\n",
    "    #layer.get_weights() returns the weights of the layer as a list of Numpy arrays.\n",
    "    weights2 = current_pool[model_idx2].get_weights() #getting weights of current neuron model_idx2\n",
    "    #layer.get_weights() returns the weights of the layer as a list of Numpy arrays.\n",
    "    weightsnew1 = weights1 #updating the weights\n",
    "    weightsnew2 = weights2 #updating the weights\n",
    "    weightsnew1[0] = weights2[0] #updating the weights from cross neuron i.e. neuron2\n",
    "    weightsnew2[0] = weights1[0] # updating the weights from cross neuron i.e. neuron1\n",
    "    return np.asarray([weightsnew1, weightsnew2])"
   ]
  },
  {
   "cell_type": "code",
   "execution_count": 7,
   "metadata": {
    "collapsed": true
   },
   "outputs": [],
   "source": [
    "#weights are stored in sepearate function so, we can use it in further models\n",
    "def model_mutate(weights):\n",
    "    for xi in range(len(weights)):\n",
    "        for yi in range(len(weights[xi])):\n",
    "            if random.uniform(0, 1) > 0.85:\n",
    "                change = random.uniform(-0.5,0.5) #intialise weights from random number taken from -0.5 to 0.5\n",
    "                weights[xi][yi] += change # updating the weights according to previous model\n",
    "    return weights"
   ]
  },
  {
   "cell_type": "code",
   "execution_count": null,
   "metadata": {
    "collapsed": true
   },
   "outputs": [],
   "source": [
    "#In Flappy Bird the user has only one action that they can perform, clicking a button to flap. Let us consider a very \n",
    "#simple 3 layered neural network of the shape (3, 7, 1) which we use to predict the action. In our example here, each \n",
    "#bird is represented by a neural network."
   ]
  },
  {
   "cell_type": "code",
   "execution_count": 8,
   "metadata": {
    "collapsed": true
   },
   "outputs": [],
   "source": [
    "#intialise neurons in which we are taking intially three neurons height, dist, pipe_height\n",
    "def predict_action(height, dist, pipe_height, model_num):\n",
    "    global current_pool\n",
    "    # The height, dist and pipe_height must be between 0 to 1 (Scaled by SCREENHEIGHT)\n",
    "    height = min(SCREENHEIGHT, height) / SCREENHEIGHT - 0.5\n",
    "    dist = dist / 450 - 0.5 # Max pipe distance from player will be 450\n",
    "    pipe_height = min(SCREENHEIGHT, pipe_height) / SCREENHEIGHT - 0.5 #pipe of height \n",
    "    neural_input = np.asarray([height, dist, pipe_height]) #input initial three neuron\n",
    "    neural_input = np.atleast_2d(neural_input)\n",
    "    output_prob = current_pool[model_num].predict(neural_input, 1)[0] #output of current model \n",
    "    if output_prob[0] <= 0.5:\n",
    "        # Perform the jump action\n",
    "        return 1\n",
    "    return 2"
   ]
  },
  {
   "cell_type": "code",
   "execution_count": 9,
   "metadata": {},
   "outputs": [
    {
     "name": "stderr",
     "output_type": "stream",
     "text": [
      "/home/tapas/anaconda3/lib/python3.6/site-packages/ipykernel_launcher.py:4: UserWarning: Update your `Dense` call to the Keras 2 API: `Dense(input_dim=3, units=7)`\n",
      "  after removing the cwd from sys.path.\n",
      "/home/tapas/anaconda3/lib/python3.6/site-packages/ipykernel_launcher.py:6: UserWarning: Update your `Dense` call to the Keras 2 API: `Dense(units=1)`\n",
      "  \n"
     ]
    }
   ],
   "source": [
    "# Initialize all models https://keras.io/layers/about-keras-layers/\n",
    "for i in range(total_models):\n",
    "    model = Sequential()\n",
    "    model.add(Dense(output_dim=7, input_dim=3))\n",
    "    model.add(Activation(\"sigmoid\"))\n",
    "    model.add(Dense(output_dim=1))\n",
    "    model.add(Activation(\"sigmoid\"))\n",
    "\n",
    "    sgd = SGD(lr=0.01, decay=1e-6, momentum=0.9, nesterov=True) #stochoaistic Gradient Descent\n",
    "    model.compile(loss=\"mse\", optimizer=sgd, metrics=[\"accuracy\"]) #loss MSE\n",
    "    current_pool.append(model) #current model get update accordingly\n",
    "    fitness.append(-100)"
   ]
  },
  {
   "cell_type": "code",
   "execution_count": 11,
   "metadata": {},
   "outputs": [],
   "source": [
    "#Load of model once the output of the model released\n",
    "if load_saved_pool:\n",
    "    for i in range(total_models):\n",
    "        current_pool[i].load_weights(\"Current_Model_Pool/model_new\"+str(i)+\".keras\")"
   ]
  },
  {
   "cell_type": "code",
   "execution_count": 12,
   "metadata": {
    "collapsed": true
   },
   "outputs": [],
   "source": [
    "#getting weights from current pool i.e. of 50\n",
    "for i in range(total_models):\n",
    "    print(current_pool[i].get_weights())"
   ]
  },
  {
   "cell_type": "code",
   "execution_count": null,
   "metadata": {
    "collapsed": true
   },
   "outputs": [],
   "source": [
    "# list of all possible players (tuple of 3 positions of flap)\n",
    "PLAYERS_LIST = (\n",
    "    # red bird\n",
    "    (\n",
    "        'assets/sprites/redbird-upflap.png',\n",
    "        'assets/sprites/redbird-midflap.png',\n",
    "        'assets/sprites/redbird-downflap.png',\n",
    "    ),\n",
    "    # blue bird\n",
    "    (\n",
    "        # amount by which base can maximum shift to left\n",
    "        'assets/sprites/bluebird-upflap.png',\n",
    "        'assets/sprites/bluebird-midflap.png',\n",
    "        'assets/sprites/bluebird-downflap.png',\n",
    "    ),\n",
    "    # yellow bird\n",
    "    (\n",
    "        'assets/sprites/yellowbird-upflap.png',\n",
    "        'assets/sprites/yellowbird-midflap.png',\n",
    "        'assets/sprites/yellowbird-downflap.png',\n",
    "    ),\n",
    ")"
   ]
  },
  {
   "cell_type": "code",
   "execution_count": null,
   "metadata": {
    "collapsed": true
   },
   "outputs": [],
   "source": [
    "# list of backgrounds\n",
    "BACKGROUNDS_LIST = (\n",
    "    'assets/sprites/background-day.png',\n",
    "    'assets/sprites/background-night.png',\n",
    ")"
   ]
  },
  {
   "cell_type": "code",
   "execution_count": null,
   "metadata": {
    "collapsed": true
   },
   "outputs": [],
   "source": [
    "# list of pipes\n",
    "PIPES_LIST = (\n",
    "    'assets/sprites/pipe-green.png',\n",
    "    'assets/sprites/pipe-red.png',\n",
    ")"
   ]
  },
  {
   "cell_type": "code",
   "execution_count": null,
   "metadata": {
    "collapsed": true
   },
   "outputs": [],
   "source": [
    "def main():\n",
    "    global SCREEN, FPSCLOCK\n",
    "    pygame.init()\n",
    "    FPSCLOCK = pygame.time.Clock()\n",
    "    SCREEN = pygame.display.set_mode((int(SCREENWIDTH), int(SCREENHEIGHT)))\n",
    "    pygame.display.set_caption('Flappy Bird')\n",
    "\n",
    "    # numbers sprites for score display\n",
    "    IMAGES['numbers'] = (\n",
    "        pygame.image.load('assets/sprites/0.png').convert_alpha(),\n",
    "        pygame.image.load('assets/sprites/1.png').convert_alpha(),\n",
    "        pygame.image.load('assets/sprites/2.png').convert_alpha(),\n",
    "        pygame.image.load('assets/sprites/3.png').convert_alpha(),\n",
    "        pygame.image.load('assets/sprites/4.png').convert_alpha(),\n",
    "        pygame.image.load('assets/sprites/5.png').convert_alpha(),\n",
    "        pygame.image.load('assets/sprites/6.png').convert_alpha(),\n",
    "        pygame.image.load('assets/sprites/7.png').convert_alpha(),\n",
    "        pygame.image.load('assets/sprites/8.png').convert_alpha(),\n",
    "        pygame.image.load('assets/sprites/9.png').convert_alpha()\n",
    "    )\n",
    "\n",
    "    # game over sprite\n",
    "    IMAGES['gameover'] = pygame.image.load('assets/sprites/gameover.png').convert_alpha()\n",
    "    # message sprite for welcome screen\n",
    "    IMAGES['message'] = pygame.image.load('assets/sprites/message.png').convert_alpha()\n",
    "    # base (ground) sprite\n",
    "    IMAGES['base'] = pygame.image.load('assets/sprites/base.png').convert_alpha()\n",
    "\n",
    "    # sounds\n",
    "    if 'win' in sys.platform:\n",
    "        soundExt = '.wav'\n",
    "    else:\n",
    "        soundExt = '.ogg'\n",
    "\n",
    "    SOUNDS['die']    = pygame.mixer.Sound('assets/audio/die' + soundExt)\n",
    "    SOUNDS['hit']    = pygame.mixer.Sound('assets/audio/hit' + soundExt)\n",
    "    SOUNDS['point']  = pygame.mixer.Sound('assets/audio/point' + soundExt)\n",
    "    SOUNDS['swoosh'] = pygame.mixer.Sound('assets/audio/swoosh' + soundExt)\n",
    "    SOUNDS['wing']   = pygame.mixer.Sound('assets/audio/wing' + soundExt)\n",
    "\n",
    "    while True:\n",
    "        # select random background sprites\n",
    "        randBg = random.randint(0, len(BACKGROUNDS_LIST) - 1)\n",
    "        IMAGES['background'] = pygame.image.load(BACKGROUNDS_LIST[randBg]).convert()\n",
    "\n",
    "        # select random player sprites\n",
    "        randPlayer = random.randint(0, len(PLAYERS_LIST) - 1)\n",
    "        IMAGES['player'] = (\n",
    "            pygame.image.load(PLAYERS_LIST[randPlayer][0]).convert_alpha(),\n",
    "            pygame.image.load(PLAYERS_LIST[randPlayer][1]).convert_alpha(),\n",
    "            pygame.image.load(PLAYERS_LIST[randPlayer][2]).convert_alpha(),\n",
    "        )\n",
    "\n",
    "        # select random pipe sprites\n",
    "        pipeindex = random.randint(0, len(PIPES_LIST) - 1)\n",
    "        IMAGES['pipe'] = (\n",
    "            pygame.transform.rotate(\n",
    "                pygame.image.load(PIPES_LIST[pipeindex]).convert_alpha(), 180),\n",
    "            pygame.image.load(PIPES_LIST[pipeindex]).convert_alpha(),\n",
    "        )\n",
    "\n",
    "        # hismask for pipes\n",
    "        HITMASKS['pipe'] = (\n",
    "            getHitmask(IMAGES['pipe'][0]),\n",
    "            getHitmask(IMAGES['pipe'][1]),\n",
    "        )\n",
    "\n",
    "        # hitmask for player\n",
    "        HITMASKS['player'] = (\n",
    "            getHitmask(IMAGES['player'][0]),\n",
    "            getHitmask(IMAGES['player'][1]),\n",
    "            getHitmask(IMAGES['player'][2]),\n",
    "        )\n",
    "\n",
    "        movementInfo = showWelcomeAnimation()\n",
    "        global fitness\n",
    "        for idx in range(total_models):\n",
    "            fitness[idx] = 0\n",
    "        crashInfo = mainGame(movementInfo)\n",
    "        showGameOverScreen(crashInfo)"
   ]
  },
  {
   "cell_type": "code",
   "execution_count": null,
   "metadata": {
    "collapsed": true
   },
   "outputs": [],
   "source": [
    "def showWelcomeAnimation():\n",
    "    return {\n",
    "                'playery': int((SCREENHEIGHT - IMAGES['player'][0].get_height()) / 2),\n",
    "                'basex': 0,\n",
    "                'playerIndexGen': cycle([0, 1, 2, 1]),\n",
    "            }\n"
   ]
  },
  {
   "cell_type": "code",
   "execution_count": null,
   "metadata": {
    "collapsed": true
   },
   "outputs": [],
   "source": [
    "def mainGame(movementInfo):\n",
    "    global fitness\n",
    "    score = playerIndex = loopIter = 0\n",
    "    playerIndexGen = movementInfo['playerIndexGen']\n",
    "    playersXList = []\n",
    "    playersYList = []\n",
    "    for idx in range(total_models):\n",
    "        playerx, playery = int(SCREENWIDTH * 0.2), movementInfo['playery']\n",
    "        playersXList.append(playerx)\n",
    "        playersYList.append(playery)\n",
    "    basex = movementInfo['basex']\n",
    "    baseShift = IMAGES['base'].get_width() - IMAGES['background'].get_width()\n",
    "\n",
    "    # get 2 new pipes to add to upperPipes lowerPipes list\n",
    "    newPipe1 = getRandomPipe()\n",
    "    newPipe2 = getRandomPipe()\n",
    "\n",
    "    # list of upper pipes\n",
    "    upperPipes = [\n",
    "        {'x': SCREENWIDTH + 200, 'y': newPipe1[0]['y']},\n",
    "        {'x': SCREENWIDTH + 200 + (SCREENWIDTH / 2), 'y': newPipe2[0]['y']},\n",
    "    ]\n",
    "\n",
    "    # list of lowerpipe\n",
    "    lowerPipes = [\n",
    "        {'x': SCREENWIDTH + 200, 'y': newPipe1[1]['y']},\n",
    "        {'x': SCREENWIDTH + 200 + (SCREENWIDTH / 2), 'y': newPipe2[1]['y']},\n",
    "    ]\n",
    "\n",
    "    global next_pipe_x\n",
    "    global next_pipe_hole_y\n",
    "\n",
    "    next_pipe_x = lowerPipes[0]['x']\n",
    "    next_pipe_hole_y = (lowerPipes[0]['y'] + (upperPipes[0]['y'] + IMAGES['pipe'][0].get_height()))/2\n",
    "\n",
    "    pipeVelX = -4\n",
    "\n",
    "    # player velocity, max velocity, downward accleration, accleration on flap\n",
    "    playersVelY    =  []   # player's velocity along Y, default same as playerFlapped\n",
    "    playerMaxVelY =  10   # max vel along Y, max descend speed\n",
    "    playerMinVelY =  -8   # min vel along Y, max ascend speed\n",
    "    playersAccY    =  []   # players downward accleration\n",
    "    playerFlapAcc =  -9   # players speed on flapping\n",
    "    playersFlapped = [] # True when player flaps\n",
    "    playersState = []\n",
    "\n",
    "    for idx in range(total_models):\n",
    "        playersVelY.append(-9)\n",
    "        playersAccY.append(1)\n",
    "        playersFlapped.append(False)\n",
    "        playersState.append(True)\n",
    "\n",
    "    alive_players = total_models\n",
    "\n",
    "\n",
    "    while True:\n",
    "        for idxPlayer in range(total_models):\n",
    "            if playersYList[idxPlayer] < 0 and playersState[idxPlayer] == True:\n",
    "                alive_players -= 1\n",
    "                playersState[idxPlayer] = False\n",
    "        if alive_players == 0:\n",
    "            return {\n",
    "                'y': 0,\n",
    "                'groundCrash': True,\n",
    "                'basex': basex,\n",
    "                'upperPipes': upperPipes,\n",
    "                'lowerPipes': lowerPipes,\n",
    "                'score': score,\n",
    "                'playerVelY': 0,\n",
    "            }\n",
    "        for idxPlayer in range(total_models):\n",
    "            if playersState[idxPlayer] == True:\n",
    "                fitness[idxPlayer] += 1\n",
    "        next_pipe_x += pipeVelX\n",
    "        for idxPlayer in range(total_models):\n",
    "            if playersState[idxPlayer] == True:\n",
    "                if predict_action(playersYList[idxPlayer], next_pipe_x, next_pipe_hole_y, idxPlayer) == 1:\n",
    "                    if playersYList[idxPlayer] > -2 * IMAGES['player'][0].get_height():\n",
    "                        playersVelY[idxPlayer] = playerFlapAcc\n",
    "                        playersFlapped[idxPlayer] = True\n",
    "                        #SOUNDS['wing'].play()\n",
    "        for event in pygame.event.get():\n",
    "            if event.type == QUIT or (event.type == KEYDOWN and event.key == K_ESCAPE):\n",
    "                pygame.quit()\n",
    "                sys.exit()\n",
    "            \"\"\"if (event.type == KEYDOWN and (event.key == K_SPACE or event.key == K_UP)):\n",
    "                if playery > -2 * IMAGES['player'][0].get_height():\n",
    "                    playerVelY = playerFlapAcc\n",
    "                    playerFlapped = True\n",
    "                    SOUNDS['wing'].play()\n",
    "            \"\"\"\n",
    "\n",
    "        # check for crash here, returns status list\n",
    "        crashTest = checkCrash({'x': playersXList, 'y': playersYList, 'index': playerIndex},\n",
    "                               upperPipes, lowerPipes)\n",
    "\n",
    "        for idx in range(total_models):\n",
    "            if playersState[idx] == True and crashTest[idx] == True:\n",
    "                alive_players -= 1\n",
    "                playersState[idx] = False\n",
    "        if alive_players == 0:\n",
    "            return {\n",
    "                'y': playery,\n",
    "                'groundCrash': crashTest[1],\n",
    "                'basex': basex,\n",
    "                'upperPipes': upperPipes,\n",
    "                'lowerPipes': lowerPipes,\n",
    "                'score': score,\n",
    "                'playerVelY': 0,\n",
    "            }\n",
    "\n",
    "        # check for score\n",
    "        for idx in range(total_models):\n",
    "            if playersState[idx] == True:\n",
    "                pipe_idx = 0\n",
    "                playerMidPos = playersXList[idx]\n",
    "                for pipe in upperPipes:\n",
    "                    pipeMidPos = pipe['x'] + IMAGES['pipe'][0].get_width()\n",
    "                    if pipeMidPos <= playerMidPos < pipeMidPos + 4:\n",
    "                        next_pipe_x = lowerPipes[pipe_idx+1]['x']\n",
    "                        next_pipe_hole_y = (lowerPipes[pipe_idx+1]['y'] + (upperPipes[pipe_idx+1]['y'] + IMAGES['pipe'][pipe_idx+1].get_height())) / 2\n",
    "                        score += 1\n",
    "                        fitness[idx] += 25\n",
    "                        # SOUNDS['point'].play()\n",
    "                    pipe_idx += 1\n",
    "\n",
    "        # playerIndex basex change\n",
    "        if (loopIter + 1) % 3 == 0:\n",
    "            playerIndex = next(playerIndexGen)\n",
    "        loopIter = (loopIter + 1) % 30\n",
    "        basex = -((-basex + 100) % baseShift)\n",
    "\n",
    "        # player's movement\n",
    "        for idx in range(total_models):\n",
    "            if playersState[idx] == True:\n",
    "                if playersVelY[idx] < playerMaxVelY and not playersFlapped[idx]:\n",
    "                    playersVelY[idx] += playersAccY[idx]\n",
    "                if playersFlapped[idx]:\n",
    "                    playersFlapped[idx] = False\n",
    "                playerHeight = IMAGES['player'][playerIndex].get_height()\n",
    "                playersYList[idx] += min(playersVelY[idx], BASEY - playersYList[idx] - playerHeight)\n",
    "\n",
    "        # move pipes to left\n",
    "        for uPipe, lPipe in zip(upperPipes, lowerPipes):\n",
    "            uPipe['x'] += pipeVelX\n",
    "            lPipe['x'] += pipeVelX\n",
    "\n",
    "        # add new pipe when first pipe is about to touch left of screen\n",
    "        if 0 < upperPipes[0]['x'] < 5:\n",
    "            newPipe = getRandomPipe()\n",
    "            upperPipes.append(newPipe[0])\n",
    "            lowerPipes.append(newPipe[1])\n",
    "\n",
    "        # remove first pipe if its out of the screen\n",
    "        if upperPipes[0]['x'] < -IMAGES['pipe'][0].get_width():\n",
    "            upperPipes.pop(0)\n",
    "            lowerPipes.pop(0)\n",
    "\n",
    "        # draw sprites\n",
    "        SCREEN.blit(IMAGES['background'], (0,0))\n",
    "\n",
    "        for uPipe, lPipe in zip(upperPipes, lowerPipes):\n",
    "            SCREEN.blit(IMAGES['pipe'][0], (uPipe['x'], uPipe['y']))\n",
    "            SCREEN.blit(IMAGES['pipe'][1], (lPipe['x'], lPipe['y']))\n",
    "\n",
    "        SCREEN.blit(IMAGES['base'], (basex, BASEY))\n",
    "        # print score so player overlaps the score\n",
    "        showScore(score)\n",
    "        for idx in range(total_models):\n",
    "            if playersState[idx] == True:\n",
    "                SCREEN.blit(IMAGES['player'][playerIndex], (playersXList[idx], playersYList[idx]))\n",
    "\n",
    "        pygame.display.update()\n",
    "        FPSCLOCK.tick(FPS)"
   ]
  },
  {
   "cell_type": "code",
   "execution_count": null,
   "metadata": {
    "collapsed": true
   },
   "outputs": [],
   "source": [
    "def showGameOverScreen(crashInfo):\n",
    "    \"\"\"Perform genetic updates here\"\"\"\n",
    "    global current_pool\n",
    "    global fitness\n",
    "    global generation\n",
    "    new_weights = []\n",
    "    total_fitness = 0\n",
    "    for select in range(total_models):\n",
    "        total_fitness += fitness[select]\n",
    "    for select in range(total_models):\n",
    "        fitness[select] /= total_fitness\n",
    "        if select > 0:\n",
    "            fitness[select] += fitness[select-1]\n",
    "    for select in range(int(total_models/2)):\n",
    "        parent1 = random.uniform(0, 1)\n",
    "        parent2 = random.uniform(0, 1)\n",
    "        idx1 = -1\n",
    "        idx2 = -1\n",
    "        for idxx in range(total_models):\n",
    "            if fitness[idxx] >= parent1:\n",
    "                idx1 = idxx\n",
    "                break\n",
    "        for idxx in range(total_models):\n",
    "            if fitness[idxx] >= parent2:\n",
    "                idx2 = idxx\n",
    "                break\n",
    "        new_weights1 = model_crossover(idx1, idx2)\n",
    "        updated_weights1 = model_mutate(new_weights1[0])\n",
    "        updated_weights2 = model_mutate(new_weights1[1])\n",
    "        new_weights.append(updated_weights1)\n",
    "        new_weights.append(updated_weights2)\n",
    "    for select in range(len(new_weights)):\n",
    "        fitness[select] = -100\n",
    "        current_pool[select].set_weights(new_weights[select])\n",
    "    if save_current_pool == 1:\n",
    "        save_pool()\n",
    "    generation = generation + 1\n",
    "    return"
   ]
  },
  {
   "cell_type": "code",
   "execution_count": null,
   "metadata": {
    "collapsed": true
   },
   "outputs": [],
   "source": [
    "def getRandomPipe():\n",
    "    \"\"\"returns a randomly generated pipe\"\"\"\n",
    "    # y of gap between upper and lower pipe\n",
    "    gapY = random.randrange(0, int(BASEY * 0.6 - PIPEGAPSIZE))\n",
    "    gapY += int(BASEY * 0.2)\n",
    "    pipeHeight = IMAGES['pipe'][0].get_height()\n",
    "    pipeX = SCREENWIDTH + 10\n",
    "\n",
    "    return [\n",
    "        {'x': pipeX, 'y': gapY - pipeHeight},  # upper pipe\n",
    "        {'x': pipeX, 'y': gapY + PIPEGAPSIZE}, # lower pipe\n",
    "    ]\n"
   ]
  },
  {
   "cell_type": "code",
   "execution_count": null,
   "metadata": {
    "collapsed": true
   },
   "outputs": [],
   "source": [
    "def showScore(score):\n",
    "    \"\"\"displays score in center of screen\"\"\"\n",
    "    scoreDigits = [int(x) for x in list(str(score))]\n",
    "    totalWidth = 0 # total width of all numbers to be printed\n",
    "\n",
    "    for digit in scoreDigits:\n",
    "        totalWidth += IMAGES['numbers'][digit].get_width()\n",
    "\n",
    "    Xoffset = (SCREENWIDTH - totalWidth) / 2\n",
    "\n",
    "    for digit in scoreDigits:\n",
    "        SCREEN.blit(IMAGES['numbers'][digit], (Xoffset, SCREENHEIGHT * 0.1))\n",
    "        Xoffset += IMAGES['numbers'][digit].get_width()\n"
   ]
  },
  {
   "cell_type": "code",
   "execution_count": null,
   "metadata": {
    "collapsed": true
   },
   "outputs": [],
   "source": [
    "def checkCrash(players, upperPipes, lowerPipes):\n",
    "    \"\"\"returns True if player collders with base or pipes.\"\"\"\n",
    "    statuses = []\n",
    "    for idx in range(total_models):\n",
    "        statuses.append(False)\n",
    "\n",
    "    for idx in range(total_models):\n",
    "        statuses[idx] = False\n",
    "        pi = players['index']\n",
    "        players['w'] = IMAGES['player'][0].get_width()\n",
    "        players['h'] = IMAGES['player'][0].get_height()\n",
    "        # if player crashes into ground\n",
    "        if players['y'][idx] + players['h'] >= BASEY - 1:\n",
    "            statuses[idx] = True\n",
    "        playerRect = pygame.Rect(players['x'][idx], players['y'][idx],\n",
    "                      players['w'], players['h'])\n",
    "        pipeW = IMAGES['pipe'][0].get_width()\n",
    "        pipeH = IMAGES['pipe'][0].get_height()\n",
    "\n",
    "        for uPipe, lPipe in zip(upperPipes, lowerPipes):\n",
    "            # upper and lower pipe rects\n",
    "            uPipeRect = pygame.Rect(uPipe['x'], uPipe['y'], pipeW, pipeH)\n",
    "            lPipeRect = pygame.Rect(lPipe['x'], lPipe['y'], pipeW, pipeH)\n",
    "\n",
    "            # player and upper/lower pipe hitmasks\n",
    "            pHitMask = HITMASKS['player'][pi]\n",
    "            uHitmask = HITMASKS['pipe'][0]\n",
    "            lHitmask = HITMASKS['pipe'][1]\n",
    "\n",
    "            # if bird collided with upipe or lpipe\n",
    "            uCollide = pixelCollision(playerRect, uPipeRect, pHitMask, uHitmask)\n",
    "            lCollide = pixelCollision(playerRect, lPipeRect, pHitMask, lHitmask)\n",
    "\n",
    "            if uCollide or lCollide:\n",
    "                statuses[idx] = True\n",
    "    return statuses"
   ]
  },
  {
   "cell_type": "code",
   "execution_count": null,
   "metadata": {
    "collapsed": true
   },
   "outputs": [],
   "source": [
    "def pixelCollision(rect1, rect2, hitmask1, hitmask2):\n",
    "    \"\"\"Checks if two objects collide and not just their rects\"\"\"\n",
    "    rect = rect1.clip(rect2)\n",
    "\n",
    "    if rect.width == 0 or rect.height == 0:\n",
    "        return False\n",
    "\n",
    "    x1, y1 = rect.x - rect1.x, rect.y - rect1.y\n",
    "    x2, y2 = rect.x - rect2.x, rect.y - rect2.y\n",
    "\n",
    "    for x in range(rect.width):\n",
    "        for y in range(rect.height):\n",
    "            if hitmask1[x1+x][y1+y] and hitmask2[x2+x][y2+y]:\n",
    "                return True\n",
    "    return False"
   ]
  },
  {
   "cell_type": "code",
   "execution_count": null,
   "metadata": {
    "collapsed": true
   },
   "outputs": [],
   "source": [
    "def getHitmask(image):\n",
    "    \"\"\"returns a hitmask using an image's alpha.\"\"\"\n",
    "    mask = []\n",
    "    for x in range(image.get_width()):\n",
    "        mask.append([])\n",
    "        for y in range(image.get_height()):\n",
    "            mask[x].append(bool(image.get_at((x,y))[3]))\n",
    "    return mask"
   ]
  }
 ],
 "metadata": {
  "kernelspec": {
   "display_name": "Python 3",
   "language": "python",
   "name": "python3"
  },
  "language_info": {
   "codemirror_mode": {
    "name": "ipython",
    "version": 3
   },
   "file_extension": ".py",
   "mimetype": "text/x-python",
   "name": "python",
   "nbconvert_exporter": "python",
   "pygments_lexer": "ipython3",
   "version": "3.6.2"
  }
 },
 "nbformat": 4,
 "nbformat_minor": 2
}
